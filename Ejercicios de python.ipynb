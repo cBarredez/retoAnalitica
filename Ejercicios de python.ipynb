{
 "cells": [
  {
   "cell_type": "markdown",
   "id": "28c95449",
   "metadata": {},
   "source": [
    "# Carlos Andres Barredez Rios A01653183\n",
    "# Arte de la analitica"
   ]
  },
  {
   "cell_type": "markdown",
   "id": "31232560",
   "metadata": {},
   "source": [
    "Ejercicios con Python:\n",
    "\n",
    "1.\n",
    "Escribir una función de Python que encuentre los números primos en los primeros N números naturales.\n",
    "N es el argumento de la función\n",
    "Llamar la función desde el código principal\n",
    "\n",
    "2.\n",
    "Escribir una función de Pyton que encuentre el producto cruz en vectores de 3 componentes.\n",
    "La función recibe dos listas (vectores)\n",
    "La función regresa un tercer vector (lista) con el resultado\n",
    "Llamar a la función desde el código principal\n",
    "\n",
    "3.\n",
    "Re-escribir el problema 2, pero ahora los vectores son leídos desde un archivo de texto.\n",
    " "
   ]
  },
  {
   "cell_type": "markdown",
   "id": "ed180cb1",
   "metadata": {},
   "source": [
    "Desarrollo"
   ]
  },
  {
   "cell_type": "markdown",
   "id": "eb02935c",
   "metadata": {},
   "source": [
    "1-"
   ]
  },
  {
   "cell_type": "code",
   "execution_count": 51,
   "id": "7bc6a8d0",
   "metadata": {},
   "outputs": [],
   "source": [
    "import math\n",
    "\n",
    "def func1(N):\n",
    "    counter = 1\n",
    "    while N > 0:\n",
    "        counter += 1\n",
    "        factors = []\n",
    "        if counter > 1:\n",
    "            for i in range(2, int(math.pow(counter,0.5)) + 1):\n",
    "                if (counter % i) == 0:\n",
    "                    factors.append(i)\n",
    "            if len(factors) == 0:\n",
    "                print(counter)\n",
    "                N -= 1 \n",
    "    return counter"
   ]
  },
  {
   "cell_type": "markdown",
   "id": "c2fc869c",
   "metadata": {},
   "source": [
    "2-"
   ]
  },
  {
   "cell_type": "code",
   "execution_count": 54,
   "id": "0ec1e92b",
   "metadata": {},
   "outputs": [
    {
     "name": "stdout",
     "output_type": "stream",
     "text": [
      "a= [1.2, 3.7, -0.25]\n",
      "b= [-0.44, -2, 8.7]\n",
      "axb= [31.689999999999998, -10.33, -0.7719999999999998]\n"
     ]
    }
   ],
   "source": [
    "def func2(a,b):\n",
    "    dat = []\n",
    "    dat.append(a[1]*b[2] - a[2]*b[1])\n",
    "    dat.append(a[2]*b[0] - a[0]*b[2])\n",
    "    dat.append(a[0]*b[1] - a[1]*b[0])\n",
    "    return dat\n",
    "x=[1.2,3.7,-0.25]\n",
    "y=[-0.44,-2,8.7]\n",
    "datcr=func2(x,y)\n",
    "print(\"a=\",x)\n",
    "print(\"b=\",y)\n",
    "print(\"axb=\",datcr)"
   ]
  },
  {
   "cell_type": "markdown",
   "id": "5c1ea9e2",
   "metadata": {},
   "source": [
    "3-"
   ]
  },
  {
   "cell_type": "code",
   "execution_count": 89,
   "id": "11c332c4",
   "metadata": {},
   "outputs": [
    {
     "name": "stdout",
     "output_type": "stream",
     "text": [
      "a= [1.2, 3.7, -0.25]\n",
      "b= [-0.44, -2, 8.7]\n",
      "axb= ['']\n"
     ]
    }
   ],
   "source": [
    "def func2(a,b):\n",
    "    dat = []\n",
    "    dat.append(a[1]*b[2] - a[2]*b[1])\n",
    "    dat.append(a[2]*b[0] - a[0]*b[2])\n",
    "    dat.append(a[0]*b[1] - a[1]*b[0])\n",
    "    return dat\n",
    "a=[]\n",
    "b=[]\n",
    "my_file = open('vectores.txt', 'r')\n",
    "data = my_file.read()\n",
    "data = data.split('\\n')\n",
    "datcr=data\n",
    "print(\"a=\",x)\n",
    "print(\"b=\",y)\n",
    "print(\"axb=\",datcr)"
   ]
  },
  {
   "cell_type": "code",
   "execution_count": null,
   "id": "f7a9c1a2",
   "metadata": {},
   "outputs": [],
   "source": []
  }
 ],
 "metadata": {
  "kernelspec": {
   "display_name": "Python 3 (ipykernel)",
   "language": "python",
   "name": "python3"
  },
  "language_info": {
   "codemirror_mode": {
    "name": "ipython",
    "version": 3
   },
   "file_extension": ".py",
   "mimetype": "text/x-python",
   "name": "python",
   "nbconvert_exporter": "python",
   "pygments_lexer": "ipython3",
   "version": "3.9.12"
  }
 },
 "nbformat": 4,
 "nbformat_minor": 5
}
